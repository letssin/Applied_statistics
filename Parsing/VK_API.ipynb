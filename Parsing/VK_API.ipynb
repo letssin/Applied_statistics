{
 "cells": [
  {
   "cell_type": "code",
   "execution_count": null,
   "id": "e2428391",
   "metadata": {},
   "outputs": [],
   "source": [
    "app_id = '51763029'"
   ]
  },
  {
   "cell_type": "markdown",
   "id": "17ce1ee2",
   "metadata": {},
   "source": [
    "https://oauth.vk.com/authorize?client_id=51763029&scope=8198&redirect_uri=https://oauth.vk.com/blank.html&display=page&v=5.16&response_type=token"
   ]
  },
  {
   "cell_type": "code",
   "execution_count": null,
   "id": "14616489",
   "metadata": {},
   "outputs": [],
   "source": []
  }
 ],
 "metadata": {
  "kernelspec": {
   "display_name": "Python 3 (ipykernel)",
   "language": "python",
   "name": "python3"
  },
  "language_info": {
   "codemirror_mode": {
    "name": "ipython",
    "version": 3
   },
   "file_extension": ".py",
   "mimetype": "text/x-python",
   "name": "python",
   "nbconvert_exporter": "python",
   "pygments_lexer": "ipython3",
   "version": "3.8.1"
  }
 },
 "nbformat": 4,
 "nbformat_minor": 5
}

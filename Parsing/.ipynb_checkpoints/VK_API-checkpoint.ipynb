{
 "cells": [
  {
   "cell_type": "markdown",
   "id": "8ae97faf",
   "metadata": {},
   "source": [
    "https://oauth.vk.com/authorize?client_id=*******&scope=8198&redirect_uri=https://oauth.vk.com/blank.html&display=page&v=5.16&response_type=token"
   ]
  },
  {
   "cell_type": "code",
   "execution_count": 30,
   "id": "c381c677",
   "metadata": {},
   "outputs": [],
   "source": [
    "my_id = '4258063'\n",
    "\n",
    "version = '5.103'\n",
    "\n",
    "with open('token.txt') as f:\n",
    "    token = f.read()"
   ]
  },
  {
   "cell_type": "code",
   "execution_count": 27,
   "id": "235088b8",
   "metadata": {},
   "outputs": [],
   "source": [
    "import requests"
   ]
  },
  {
   "cell_type": "code",
   "execution_count": 32,
   "id": "b1dcbbf4",
   "metadata": {},
   "outputs": [],
   "source": [
    "method = 'users.get'\n",
    "parameters = 'user_ids=4258063'\n",
    "\n",
    "url = 'https://api.vk.com/method/' + method + '?' + parameters + '&v=' + version + '&access_token=' + token"
   ]
  },
  {
   "cell_type": "code",
   "execution_count": 25,
   "id": "18fbfcbe",
   "metadata": {},
   "outputs": [
    {
     "data": {
      "text/plain": [
       "'https://api.vk.com/method/users.get?user_ids=4258063&v=5.154&access_token=pcr0gGeO163hYwKiMYKs'"
      ]
     },
     "execution_count": 25,
     "metadata": {},
     "output_type": "execute_result"
    }
   ],
   "source": [
    "url"
   ]
  },
  {
   "cell_type": "code",
   "execution_count": 33,
   "id": "64cd5045",
   "metadata": {},
   "outputs": [
    {
     "data": {
      "text/plain": [
       "{'response': [{'id': 4258063,\n",
       "   'first_name': 'Максим',\n",
       "   'last_name': 'Наумов',\n",
       "   'can_access_closed': True,\n",
       "   'is_closed': True}]}"
      ]
     },
     "execution_count": 33,
     "metadata": {},
     "output_type": "execute_result"
    }
   ],
   "source": [
    "response = requests.get(url)\n",
    "response.json()"
   ]
  },
  {
   "cell_type": "code",
   "execution_count": 40,
   "id": "f4561a6f",
   "metadata": {},
   "outputs": [
    {
     "data": {
      "text/plain": [
       "'Максим'"
      ]
     },
     "execution_count": 40,
     "metadata": {},
     "output_type": "execute_result"
    }
   ],
   "source": [
    "response.json()['response'][0]['first_name']"
   ]
  },
  {
   "cell_type": "code",
   "execution_count": 51,
   "id": "adceafbc",
   "metadata": {},
   "outputs": [],
   "source": [
    "def vk_download(method, parameters):\n",
    "    url = 'https://api.vk.com/method/' + method + '?' + parameters + '&v=' + version + '&access_token=' + token\n",
    "    \n",
    "    response = requests.get(url)\n",
    "    return response.json()['response']"
   ]
  },
  {
   "cell_type": "code",
   "execution_count": 56,
   "id": "0e216f4b",
   "metadata": {},
   "outputs": [
    {
     "data": {
      "text/plain": [
       "[{'id': 4258063,\n",
       "  'bdate': '12.7.1988',\n",
       "  'city': {'id': 122, 'title': 'Рязань'},\n",
       "  'first_name': 'Максим',\n",
       "  'last_name': 'Наумов',\n",
       "  'can_access_closed': True,\n",
       "  'is_closed': True},\n",
       " {'id': 2,\n",
       "  'bdate': '14.2',\n",
       "  'first_name': 'Александра',\n",
       "  'last_name': 'Владимирова',\n",
       "  'can_access_closed': False,\n",
       "  'is_closed': True}]"
      ]
     },
     "execution_count": 56,
     "metadata": {},
     "output_type": "execute_result"
    }
   ],
   "source": [
    "vk_download('users.get', 'user_ids=4258063,2&fields=bdate,city')"
   ]
  },
  {
   "cell_type": "markdown",
   "id": "db697411",
   "metadata": {},
   "source": [
    "___"
   ]
  },
  {
   "cell_type": "code",
   "execution_count": 57,
   "id": "26736696",
   "metadata": {},
   "outputs": [],
   "source": [
    "group_id = '-26610299'"
   ]
  },
  {
   "cell_type": "code",
   "execution_count": 62,
   "id": "e4e79cae",
   "metadata": {},
   "outputs": [],
   "source": [
    "wall = vk_download('wall.get', 'owner_id=' + group_id)"
   ]
  },
  {
   "cell_type": "code",
   "execution_count": 70,
   "id": "44a1d99c",
   "metadata": {},
   "outputs": [
    {
     "data": {
      "text/plain": [
       "dict_keys(['count', 'items'])"
      ]
     },
     "execution_count": 70,
     "metadata": {},
     "output_type": "execute_result"
    }
   ],
   "source": [
    "wall.keys()"
   ]
  },
  {
   "cell_type": "code",
   "execution_count": 68,
   "id": "3d78149f",
   "metadata": {},
   "outputs": [
    {
     "data": {
      "text/plain": [
       "[{'is_pinned': 1,\n",
       "  'comments': {'count': 0},\n",
       "  'marked_as_ads': 0,\n",
       "  'hash': 'E5WSR4KQDQjeDlwTIIzWDMBxxw',\n",
       "  'type': 'post',\n",
       "  'attachments': [],\n",
       "  'date': 1664210052,\n",
       "  'from_id': -26610299,\n",
       "  'id': 54581,\n",
       "  'is_favorite': False,\n",
       "  'likes': {'can_like': 0, 'count': 429, 'user_likes': 0},\n",
       "  'owner_id': -26610299,\n",
       "  'post_type': 'post',\n",
       "  'reposts': {'count': 96},\n",
       "  'text': 'Приснился мне город, открытый весне,\\nи ты подошла к телефону во сне.\\n\\nЗвонил я, как прежде, из будки с угла,\\nно ты ничего разобрать не могла.\\n\\nТвой голос, ослабленный дальностью лет,\\n«Нажмите на кнопку!» – давал мне совет.\\n\\nА я всё кричал, задыхаясь: «Прости!»,\\nнад сломанной трубкой сосулькою стыл.\\n\\nИ с крыш, и с ресниц на подушку текло,\\nи звонкой монетой стучали в стекло.\\n\\nМеня торопили, и не было сил\\nприпомнить: за что ж я прощенья просил?..\\n\\n\\xa0\\nГерман Плисецкий',\n",
       "  'views': {'count': 70665}},\n",
       " {'comments': {'count': 0},\n",
       "  'marked_as_ads': 1,\n",
       "  'hash': 'HRBLXfTcgOm7RpcRn8rbN5Dsfw',\n",
       "  'type': 'post',\n",
       "  'attachments': [{'type': 'photo',\n",
       "    'photo': {'album_id': -51,\n",
       "     'date': 1696437121,\n",
       "     'id': 457240609,\n",
       "     'owner_id': -26610299,\n",
       "     'access_key': '80e20c765464709604',\n",
       "     'post_id': 55833,\n",
       "     'sizes': [{'height': 75,\n",
       "       'type': 's',\n",
       "       'width': 56,\n",
       "       'url': 'https://sun2-21.userapi.com/impg/xYM9Noy-0qOOlKkcq_S1IOGRoBYFZ9oqsexhuA/Xvg_GjB7Slc.jpg?size=56x75&quality=95&sign=f3dce7eb723af64477d5aec356160c86&c_uniq_tag=UBT6zz5fDejyqNAotqmiWFlOvTd4wI_KysD3vtD9K5Y&type=album'},\n",
       "      {'height': 130,\n",
       "       'type': 'm',\n",
       "       'width': 97,\n",
       "       'url': 'https://sun2-21.userapi.com/impg/xYM9Noy-0qOOlKkcq_S1IOGRoBYFZ9oqsexhuA/Xvg_GjB7Slc.jpg?size=97x130&quality=95&sign=b87b7fbc9bd982db73448e6910b795b9&c_uniq_tag=GL3-KLkUdEdFre-OSN2f25FXjOd54QqNJm-zdqmtAbQ&type=album'},\n",
       "      {'height': 604,\n",
       "       'type': 'x',\n",
       "       'width': 452,\n",
       "       'url': 'https://sun2-21.userapi.com/impg/xYM9Noy-0qOOlKkcq_S1IOGRoBYFZ9oqsexhuA/Xvg_GjB7Slc.jpg?size=452x604&quality=95&sign=8144fe7304837b0d7aea918eb7deaa11&c_uniq_tag=_HCECzta0sQw8EOk6z7CEwBxuzj0mI0aUB0CzxKAhRg&type=album'},\n",
       "      {'height': 807,\n",
       "       'type': 'y',\n",
       "       'width': 605,\n",
       "       'url': 'https://sun2-21.userapi.com/impg/xYM9Noy-0qOOlKkcq_S1IOGRoBYFZ9oqsexhuA/Xvg_GjB7Slc.jpg?size=605x807&quality=95&sign=5dfaeb5b0784ba5311a6fb3f64141247&c_uniq_tag=yx9V5LtHntT2m1HXXAP-9SlZVmgLxP8xniELvU-bA9k&type=album'},\n",
       "      {'height': 1080,\n",
       "       'type': 'z',\n",
       "       'width': 809,\n",
       "       'url': 'https://sun2-21.userapi.com/impg/xYM9Noy-0qOOlKkcq_S1IOGRoBYFZ9oqsexhuA/Xvg_GjB7Slc.jpg?size=809x1080&quality=95&sign=f9a508b8cb4755747192aced086b01b1&c_uniq_tag=QXdt4M8OqDI4RSCrqcuSPVBP6yTEZqB7ltb4uLj0z2M&type=album'},\n",
       "      {'height': 1160,\n",
       "       'type': 'w',\n",
       "       'width': 869,\n",
       "       'url': 'https://sun2-21.userapi.com/impg/xYM9Noy-0qOOlKkcq_S1IOGRoBYFZ9oqsexhuA/Xvg_GjB7Slc.jpg?size=869x1160&quality=95&sign=7c83c5480229d81e02dc3a8fbd255ff4&c_uniq_tag=dKJXEP0S31QRonSz-X203qndxLyjJXnbMxD0oCFbMQg&type=album'},\n",
       "      {'height': 174,\n",
       "       'type': 'o',\n",
       "       'width': 130,\n",
       "       'url': 'https://sun2-21.userapi.com/impg/xYM9Noy-0qOOlKkcq_S1IOGRoBYFZ9oqsexhuA/Xvg_GjB7Slc.jpg?size=130x174&quality=95&sign=d0a502823af01734b510ee6eb70cbb5d&c_uniq_tag=Ei6hZaaifIVH4Pcdx1ltixAQROT8-hBOOfr1pHMRpkU&type=album'},\n",
       "      {'height': 267,\n",
       "       'type': 'p',\n",
       "       'width': 200,\n",
       "       'url': 'https://sun2-21.userapi.com/impg/xYM9Noy-0qOOlKkcq_S1IOGRoBYFZ9oqsexhuA/Xvg_GjB7Slc.jpg?size=200x267&quality=95&sign=3588ba8657ec537959b4235f5ce4e587&c_uniq_tag=4MQJno3bI-OohJdslFQvCSNEFA-ZpgC2Q7kThdARwBg&type=album'},\n",
       "      {'height': 427,\n",
       "       'type': 'q',\n",
       "       'width': 320,\n",
       "       'url': 'https://sun2-21.userapi.com/impg/xYM9Noy-0qOOlKkcq_S1IOGRoBYFZ9oqsexhuA/Xvg_GjB7Slc.jpg?size=320x427&quality=95&sign=1c109a987dea4713abb814b31f0f77ab&c_uniq_tag=5j4cLMql8Wt5ZbEr7ZxPedQR9H3dDMgAHT1nWx5XGUg&type=album'},\n",
       "      {'height': 681,\n",
       "       'type': 'r',\n",
       "       'width': 510,\n",
       "       'url': 'https://sun2-21.userapi.com/impg/xYM9Noy-0qOOlKkcq_S1IOGRoBYFZ9oqsexhuA/Xvg_GjB7Slc.jpg?size=510x681&quality=95&sign=0e56e96567d5cd54befcf7dcb2a102b1&c_uniq_tag=hryMhXFCu6kLYqXkzfl5AI6MRDAuVZNbd-1IzlSrCRI&type=album'}],\n",
       "     'text': '',\n",
       "     'user_id': 100,\n",
       "     'web_view_token': 'c45aa1a33d069405a2'}}],\n",
       "  'date': 1696467900,\n",
       "  'from_id': -26610299,\n",
       "  'id': 55833,\n",
       "  'is_favorite': False,\n",
       "  'likes': {'can_like': 0, 'count': 690, 'user_likes': 0},\n",
       "  'owner_id': -26610299,\n",
       "  'post_type': 'post',\n",
       "  'reposts': {'count': 603},\n",
       "  'text': 'Открыт набор на курс по психологии. Экспресс-обучение с нуля бесплатно.\\n\\nОнлайн Институт Практической Психологии открывает набор на уникальный курс по психологии:\\n\\n- преподаватели практикующие-психологи\\n- методология обучения, с которой студенты приходят к результатам\\n\\nСейчас у вас есть возможность бесплатно пройти вводную часть курса. Вы поймете, в чем суть и востребованность этой профессии. Сможете примерить ее на себя и понять, хотите ли вы помогать себе и другим легко идти по жизни.\\n\\nЗапись на онлайн-курс по ссылке:\\n\\nhttps://clck.ru/35rtr5\\n\\nОнлайн-курс — это:\\n\\n- 3 дня прямых эфиров. Ведущий — Ярослав Самойлов, магистр психологии и автор масштабных трансформационных программ по психологии с 2014 года\\n- общение с психологом и возможность получить ответы на свои вопросы\\n- пошаговый план, как вам стать психологом с нуля за 9 месяцев\\n- простым языком о том, как вам избавиться от тревожности, ограничений и стереотипов, навязанных другими\\n\\nЗа три дня занятий вы узнаете, подходит ли вам профессия психолога-консультанта и почему сейчас все больше людей обращаются к специалистам за помощью.\\n\\nС помощью онлайн-курса вы:\\n\\n- поймете, как разобраться со своими проблемами в жизни и помогать другим\\n- как с нуля выстроить успешную практику и сделать помощь людям своим основным прибыльным занятием\\n- как попрощаться с синдромом самозванца и давать советы, за которые будут благодарить\\n- выясните, как устроена психика человека и в чем причина 99% неудач в жизни\\n- как решить свои проблемы, найти смысл в жизни, избавиться от тревожности и жить без оглядки на других\\n- 10 мифов о работе психолога и почему сейчас все больше людей идут не к подругам, а к профессионалам\\n- получите план, как стать психологом с нуля за 9 месяцев и как это совместить с привычной жизнью и плотным графиком\\n\\nС обучением в нашем Онлайн Институте вы сможете не только помогать другим на консультациях. Вы сможете решить свои проблемы, вернуть себе эмоциональную стабильность и найти ответы на все свои «почему».\\n\\nРегистрируйтесь по ссылке — запись на бесплатный курс идет только по ней:\\n\\nhttps://clck.ru/35rtr5\\n\\nи получите подарок «Пошаговый план развития психолога-консультанта в первый год практики».\\n\\nОсталось всего 11 мест — успейте записаться на обучение!',\n",
       "  'views': {'count': 10831}},\n",
       " {'comments': {'count': 0},\n",
       "  'marked_as_ads': 0,\n",
       "  'hash': 'OBGovF1WyAoAbGE1Qa0dloambA',\n",
       "  'type': 'post',\n",
       "  'attachments': [],\n",
       "  'date': 1696437045,\n",
       "  'from_id': -26610299,\n",
       "  'id': 55831,\n",
       "  'is_favorite': False,\n",
       "  'likes': {'can_like': 0, 'count': 352, 'user_likes': 0},\n",
       "  'owner_id': -26610299,\n",
       "  'post_type': 'post',\n",
       "  'reposts': {'count': 90},\n",
       "  'text': 'Я не болен. Просто в октябре я чувствую себя так, будто мои внутренности грызут дикие звери \\n \\nГабриэль Гарсиа Маркес',\n",
       "  'views': {'count': 18311}},\n",
       " {'comments': {'count': 0},\n",
       "  'marked_as_ads': 0,\n",
       "  'hash': 'NRL0ZCZpqGAD7sCbuAHqbHpXAw',\n",
       "  'type': 'post',\n",
       "  'attachments': [],\n",
       "  'date': 1696436990,\n",
       "  'from_id': -26610299,\n",
       "  'id': 55830,\n",
       "  'is_favorite': False,\n",
       "  'likes': {'can_like': 0, 'count': 165, 'user_likes': 0},\n",
       "  'owner_id': -26610299,\n",
       "  'post_type': 'post',\n",
       "  'reposts': {'count': 46},\n",
       "  'text': '— Октябрь, — со страстью в голосе произнес он. — Боже, это мой любимый месяц, готов его поедать, вдыхать, втягивать запахи. Ах, этот мятежный и печальный месяц. Смотри, как от встречи с ним зарделась листва. В октябре мир объят пламенем...\\n\\nРэй Брэдбери. У нас всегда будет Париж',\n",
       "  'views': {'count': 8607}},\n",
       " {'comments': {'count': 0},\n",
       "  'marked_as_ads': 0,\n",
       "  'hash': 'Iqr8yOfAe4gElLXbejUE4ii6wA',\n",
       "  'type': 'post',\n",
       "  'attachments': [],\n",
       "  'date': 1696436904,\n",
       "  'from_id': -26610299,\n",
       "  'id': 55829,\n",
       "  'is_favorite': False,\n",
       "  'likes': {'can_like': 0, 'count': 103, 'user_likes': 0},\n",
       "  'owner_id': -26610299,\n",
       "  'post_type': 'post',\n",
       "  'reposts': {'count': 17},\n",
       "  'text': '— Ненавижу октябрь.\\n— Чем он перед тобой провинился?\\n— Этот месяц хоронит лето.\\n\\nМарк Леви. Семь дней творения',\n",
       "  'views': {'count': 7968}},\n",
       " {'comments': {'count': 0},\n",
       "  'marked_as_ads': 0,\n",
       "  'hash': 'kJbQ2xN4jDDkCnjO_TX5hk1Fbg',\n",
       "  'type': 'post',\n",
       "  'attachments': [],\n",
       "  'date': 1696436857,\n",
       "  'from_id': -26610299,\n",
       "  'id': 55828,\n",
       "  'is_favorite': False,\n",
       "  'likes': {'can_like': 0, 'count': 97, 'user_likes': 0},\n",
       "  'owner_id': -26610299,\n",
       "  'post_type': 'post',\n",
       "  'reposts': {'count': 18},\n",
       "  'text': 'Видели его в тот момент? Хоть бы глазом моргнул. А вот я... я только мечтать могу о таком выражении лица, чтобы полное безразличие и ноль эмоций.\\n\\n Рэй Брэдбери «Октябрьская страна»',\n",
       "  'views': {'count': 5785}},\n",
       " {'comments': {'count': 0},\n",
       "  'marked_as_ads': 0,\n",
       "  'hash': 'v6uunARF0vmIVzqgWsBI3X0T4g',\n",
       "  'type': 'post',\n",
       "  'attachments': [],\n",
       "  'date': 1696436798,\n",
       "  'from_id': -26610299,\n",
       "  'id': 55827,\n",
       "  'is_favorite': False,\n",
       "  'likes': {'can_like': 0, 'count': 93, 'user_likes': 0},\n",
       "  'owner_id': -26610299,\n",
       "  'post_type': 'post',\n",
       "  'reposts': {'count': 28},\n",
       "  'text': 'Прошлым вечером на ней было слишком много румян и не слишком много одежды. Это первый признак отчаяния у женщины. \\n \\nОскар Уайльд. \\nИдеальный муж',\n",
       "  'views': {'count': 5643}},\n",
       " {'comments': {'count': 0},\n",
       "  'marked_as_ads': 0,\n",
       "  'hash': '8vhGU_SqVqb_N0QC7WefPTy0kw',\n",
       "  'type': 'post',\n",
       "  'attachments': [],\n",
       "  'date': 1696436767,\n",
       "  'from_id': -26610299,\n",
       "  'id': 55826,\n",
       "  'is_favorite': False,\n",
       "  'likes': {'can_like': 0, 'count': 82, 'user_likes': 0},\n",
       "  'owner_id': -26610299,\n",
       "  'post_type': 'post',\n",
       "  'reposts': {'count': 15},\n",
       "  'text': 'Этим вечером она поняла, что при желании люди, какими бы разными они ни были, могут прийти к согласию.\\n\\nМари-Бернадетт Дюпюи \"Сиротка\"',\n",
       "  'views': {'count': 4837}},\n",
       " {'comments': {'count': 0},\n",
       "  'marked_as_ads': 0,\n",
       "  'hash': 'YrNnT2Aza9W2jAdC1BPUDanq5w',\n",
       "  'type': 'post',\n",
       "  'attachments': [],\n",
       "  'date': 1696436719,\n",
       "  'from_id': -26610299,\n",
       "  'id': 55825,\n",
       "  'is_favorite': False,\n",
       "  'likes': {'can_like': 0, 'count': 81, 'user_likes': 0},\n",
       "  'owner_id': -26610299,\n",
       "  'post_type': 'post',\n",
       "  'reposts': {'count': 16},\n",
       "  'text': 'Сорок миллионов людей каждый вечер включают телевизоры, чтобы узнать, что им думать. \\n \\nДжулиан Феллоуз. «Снобы»',\n",
       "  'views': {'count': 5393}},\n",
       " {'comments': {'count': 0},\n",
       "  'marked_as_ads': 0,\n",
       "  'hash': 'XpfG6HYlrQPNg3v76TYiUg0kHg',\n",
       "  'type': 'post',\n",
       "  'attachments': [],\n",
       "  'date': 1696325902,\n",
       "  'from_id': -26610299,\n",
       "  'id': 55824,\n",
       "  'is_favorite': False,\n",
       "  'likes': {'can_like': 0, 'count': 69, 'user_likes': 0},\n",
       "  'owner_id': -26610299,\n",
       "  'post_type': 'post',\n",
       "  'reposts': {'count': 13},\n",
       "  'text': 'Докатились, одним словом, трамвай у нас стал читальным залом. В таком случае, надо подумать о здоровье и писать книги, принимая во внимание обстоятельства, в которых они будут читаться. Одни главы для чтения за кофе, другие - для трамвая, а какие-то - для субботы и воскресенья, когда мы, умытые и надушенные, садимся в удобное кресло, готовые за доброй трубкой воспринять порцию культуры. Так будет лучше. \\n \\nХулио Кортасар. \"Экзамен',\n",
       "  'views': {'count': 12575}},\n",
       " {'comments': {'count': 0},\n",
       "  'marked_as_ads': 0,\n",
       "  'zoom_text': True,\n",
       "  'hash': 'uuXqSXQZdk6mZrQqbBPOzHTqkg',\n",
       "  'type': 'post',\n",
       "  'attachments': [],\n",
       "  'date': 1696053306,\n",
       "  'from_id': -26610299,\n",
       "  'id': 55823,\n",
       "  'is_favorite': False,\n",
       "  'likes': {'can_like': 0, 'count': 476, 'user_likes': 0},\n",
       "  'owner_id': -26610299,\n",
       "  'post_type': 'post',\n",
       "  'reposts': {'count': 104},\n",
       "  'text': 'Если вы будете добиваться чужого принятия, то станете заложником другого человека\\n\\nЛао-Цзы',\n",
       "  'views': {'count': 47369}},\n",
       " {'comments': {'count': 0},\n",
       "  'marked_as_ads': 0,\n",
       "  'hash': 'IPyYMbAbBgsW-BFCSMEaLjPnuQ',\n",
       "  'type': 'post',\n",
       "  'attachments': [],\n",
       "  'date': 1695981886,\n",
       "  'from_id': -26610299,\n",
       "  'id': 55821,\n",
       "  'is_favorite': False,\n",
       "  'likes': {'can_like': 0, 'count': 286, 'user_likes': 0},\n",
       "  'owner_id': -26610299,\n",
       "  'post_type': 'post',\n",
       "  'reposts': {'count': 69},\n",
       "  'text': 'Какую бы любовь я ни испытывала в своем сердце, люди видят лишь то, что я делаю.\\n\\nПроект Счастье. Мечты. План. Новая жизнь. Г. Рубин',\n",
       "  'views': {'count': 27117}},\n",
       " {'comments': {'count': 0},\n",
       "  'marked_as_ads': 0,\n",
       "  'zoom_text': True,\n",
       "  'hash': '1c4QTSC1Y5orS7BLpZM8xo3m-g',\n",
       "  'type': 'post',\n",
       "  'attachments': [],\n",
       "  'date': 1695978868,\n",
       "  'from_id': -26610299,\n",
       "  'id': 55820,\n",
       "  'is_favorite': False,\n",
       "  'likes': {'can_like': 0, 'count': 281, 'user_likes': 0},\n",
       "  'owner_id': -26610299,\n",
       "  'post_type': 'post',\n",
       "  'reposts': {'count': 61},\n",
       "  'text': 'Тяжелым человеком быть легко, легким - тяжело.\\n\\nПроект Счастье. Мечты. План. Новая жизнь. Г. Рубин',\n",
       "  'views': {'count': 22254}},\n",
       " {'comments': {'count': 0},\n",
       "  'marked_as_ads': 0,\n",
       "  'hash': 'oR4aukCwtPYozR6D3ciNSDnKDw',\n",
       "  'type': 'post',\n",
       "  'attachments': [],\n",
       "  'date': 1695978391,\n",
       "  'from_id': -26610299,\n",
       "  'id': 55819,\n",
       "  'is_favorite': False,\n",
       "  'likes': {'can_like': 0, 'count': 186, 'user_likes': 0},\n",
       "  'owner_id': -26610299,\n",
       "  'post_type': 'post',\n",
       "  'reposts': {'count': 35},\n",
       "  'text': 'Именно занимаясь мелочами, мы осваиваем великое искусство уменьшать страдания и усиливать счастье.\\n\\nПроект Счастье. Мечты. План. Новая жизнь. Г. Рубин',\n",
       "  'views': {'count': 14265}},\n",
       " {'comments': {'count': 0},\n",
       "  'marked_as_ads': 0,\n",
       "  'hash': 'iTvtzNH-3E2IOKVx2apyed9aGA',\n",
       "  'type': 'post',\n",
       "  'attachments': [],\n",
       "  'date': 1695973961,\n",
       "  'from_id': -26610299,\n",
       "  'id': 55818,\n",
       "  'is_favorite': False,\n",
       "  'likes': {'can_like': 0, 'count': 278, 'user_likes': 0},\n",
       "  'owner_id': -26610299,\n",
       "  'post_type': 'post',\n",
       "  'reposts': {'count': 90},\n",
       "  'text': 'Я никогда ни на кого не сержусь. Ни один человек не может сделать ничего такого, что заслуживало бы такой моей реакции. На людей сердишься, когда чувствуешь, что их поступки важны. Ничего подобного я давно не чувствую.\\n\\nКарлос Кастанеда',\n",
       "  'views': {'count': 16087}},\n",
       " {'comments': {'count': 0},\n",
       "  'marked_as_ads': 0,\n",
       "  'hash': 'jb2PRAqlP2uNqj0TjL9CjXlt9g',\n",
       "  'type': 'post',\n",
       "  'attachments': [],\n",
       "  'date': 1695973935,\n",
       "  'from_id': -26610299,\n",
       "  'id': 55817,\n",
       "  'is_favorite': False,\n",
       "  'likes': {'can_like': 0, 'count': 158, 'user_likes': 0},\n",
       "  'owner_id': -26610299,\n",
       "  'post_type': 'post',\n",
       "  'reposts': {'count': 53},\n",
       "  'text': 'Понять другого человека - все равно что обнять кактус. Всем нам приходится обнимать кактусы. Важно поверить в то, что это необходимо, научиться находить в этом удовольствие, и однажды, когда тебе будет очень нужно, кто-то обнимет тебя. \\n\\nРоберт Дауни-младший',\n",
       "  'views': {'count': 11950}},\n",
       " {'comments': {'count': 0},\n",
       "  'marked_as_ads': 0,\n",
       "  'hash': '523xeU-OQS31YFSb8BPc2aVCXg',\n",
       "  'type': 'post',\n",
       "  'attachments': [],\n",
       "  'date': 1695973899,\n",
       "  'from_id': -26610299,\n",
       "  'id': 55816,\n",
       "  'is_favorite': False,\n",
       "  'likes': {'can_like': 0, 'count': 208, 'user_likes': 0},\n",
       "  'owner_id': -26610299,\n",
       "  'post_type': 'post',\n",
       "  'reposts': {'count': 50},\n",
       "  'text': 'Делать вид, что с головой у тебя всё в порядке, не так-то просто, но важно.\\n\\nСара Груэн «Воды слонам!»',\n",
       "  'views': {'count': 13732}},\n",
       " {'comments': {'count': 0},\n",
       "  'marked_as_ads': 0,\n",
       "  'hash': 'n591MYyS86Aq42tUxw1j489Y0Q',\n",
       "  'type': 'post',\n",
       "  'attachments': [],\n",
       "  'date': 1695973859,\n",
       "  'from_id': -26610299,\n",
       "  'id': 55815,\n",
       "  'is_favorite': False,\n",
       "  'likes': {'can_like': 0, 'count': 175, 'user_likes': 0},\n",
       "  'owner_id': -26610299,\n",
       "  'post_type': 'post',\n",
       "  'reposts': {'count': 38},\n",
       "  'text': 'Видишь ли, девушки никогда не выходят замуж за тех, с кем флиртуют.\\n\\nОскар Уайльд. \"Как важно быть серьезным\"',\n",
       "  'views': {'count': 11074}},\n",
       " {'comments': {'count': 0},\n",
       "  'marked_as_ads': 0,\n",
       "  'hash': 'AyQi5ld7Jip9IrD8VjaXU3Fu2w',\n",
       "  'type': 'post',\n",
       "  'attachments': [],\n",
       "  'date': 1695973838,\n",
       "  'from_id': -26610299,\n",
       "  'id': 55814,\n",
       "  'is_favorite': False,\n",
       "  'likes': {'can_like': 0, 'count': 196, 'user_likes': 0},\n",
       "  'owner_id': -26610299,\n",
       "  'post_type': 'post',\n",
       "  'reposts': {'count': 39},\n",
       "  'text': 'И почему мы всегда такое большое значение придаём первой любви? Ведь на самом деле важнее всего последняя.\\n\\n Тони Парсонс «Муж и жена»',\n",
       "  'views': {'count': 10274}},\n",
       " {'comments': {'count': 0},\n",
       "  'marked_as_ads': 0,\n",
       "  'hash': 'p1wZwLd2hRHGu_HlIT16isHKww',\n",
       "  'type': 'post',\n",
       "  'attachments': [],\n",
       "  'date': 1695973820,\n",
       "  'from_id': -26610299,\n",
       "  'id': 55813,\n",
       "  'is_favorite': False,\n",
       "  'likes': {'can_like': 0, 'count': 393, 'user_likes': 0},\n",
       "  'owner_id': -26610299,\n",
       "  'post_type': 'post',\n",
       "  'reposts': {'count': 118},\n",
       "  'text': '- Скажите честно, внешность мужчины важна для женщин?\\n- Конечно! В лице, в глазах должна быть порода. Бывают такие, что от одного его взгляда дуреешь.\\n\\nСлава Сэ, Сантехник. Твоё моё колено',\n",
       "  'views': {'count': 29332}}]"
      ]
     },
     "execution_count": 68,
     "metadata": {},
     "output_type": "execute_result"
    }
   ],
   "source": [
    "wall['items']"
   ]
  },
  {
   "cell_type": "code",
   "execution_count": 83,
   "id": "f9388663",
   "metadata": {},
   "outputs": [],
   "source": [
    "import time\n",
    "from tqdm import tqdm_notebook"
   ]
  },
  {
   "cell_type": "code",
   "execution_count": 72,
   "id": "1b0ad2f6",
   "metadata": {},
   "outputs": [
    {
     "data": {
      "text/plain": [
       "11535"
      ]
     },
     "execution_count": 72,
     "metadata": {},
     "output_type": "execute_result"
    }
   ],
   "source": [
    "n = vk_download('wall.get', 'owner_id=' + group_id)['count']\n",
    "n"
   ]
  },
  {
   "cell_type": "code",
   "execution_count": 73,
   "id": "211e9175",
   "metadata": {},
   "outputs": [
    {
     "data": {
      "text/plain": [
       "115"
      ]
     },
     "execution_count": 73,
     "metadata": {},
     "output_type": "execute_result"
    }
   ],
   "source": [
    "n // 100"
   ]
  },
  {
   "cell_type": "code",
   "execution_count": 74,
   "id": "ec056d34",
   "metadata": {},
   "outputs": [
    {
     "data": {
      "text/plain": [
       "{'id': [], 'text': [], 'likes': []}"
      ]
     },
     "execution_count": 74,
     "metadata": {},
     "output_type": "execute_result"
    }
   ],
   "source": [
    "info = {\n",
    "    'id':[ ],\n",
    "    'text':[ ],\n",
    "    'likes':[ ],\n",
    "}\n",
    "info"
   ]
  },
  {
   "cell_type": "code",
   "execution_count": 84,
   "id": "e40df481",
   "metadata": {},
   "outputs": [
    {
     "name": "stderr",
     "output_type": "stream",
     "text": [
      "C:\\Users\\бвс\\AppData\\Local\\Temp\\ipykernel_5864\\4198094000.py:1: TqdmDeprecationWarning: This function will be removed in tqdm==5.0.0\n",
      "Please use `tqdm.notebook.tqdm` instead of `tqdm.tqdm_notebook`\n",
      "  for i in tqdm_notebook(range(1,1000,100)):\n"
     ]
    },
    {
     "data": {
      "application/vnd.jupyter.widget-view+json": {
       "model_id": "5f19539894c64a5993f3061b6edee854",
       "version_major": 2,
       "version_minor": 0
      },
      "text/plain": [
       "HBox(children=(FloatProgress(value=0.0, max=10.0), HTML(value='')))"
      ]
     },
     "metadata": {},
     "output_type": "display_data"
    },
    {
     "name": "stdout",
     "output_type": "stream",
     "text": [
      "\n"
     ]
    }
   ],
   "source": [
    "for i in tqdm_notebook(range(1,1000,100)):\n",
    "    time.sleep(0.4)\n",
    "    wall = vk_download('wall.get', 'owner_id=' + group_id \\\n",
    "                       + '&count=100&offset' + str(i))['items']\n",
    "    info['likes'].extend([item['likes']['count'] for item in wall])\n",
    "    info['id'].extend([item['id'] for item in wall])\n",
    "    info['text'].extend([item['text'] for item in wall])"
   ]
  },
  {
   "cell_type": "code",
   "execution_count": 77,
   "id": "9fdb3a79",
   "metadata": {},
   "outputs": [],
   "source": [
    "import pandas as pd"
   ]
  },
  {
   "cell_type": "code",
   "execution_count": 85,
   "id": "a6304218",
   "metadata": {},
   "outputs": [],
   "source": [
    "df = pd.DataFrame(info)"
   ]
  },
  {
   "cell_type": "code",
   "execution_count": 79,
   "id": "c204d3f8",
   "metadata": {},
   "outputs": [
    {
     "data": {
      "text/html": [
       "<div>\n",
       "<style scoped>\n",
       "    .dataframe tbody tr th:only-of-type {\n",
       "        vertical-align: middle;\n",
       "    }\n",
       "\n",
       "    .dataframe tbody tr th {\n",
       "        vertical-align: top;\n",
       "    }\n",
       "\n",
       "    .dataframe thead th {\n",
       "        text-align: right;\n",
       "    }\n",
       "</style>\n",
       "<table border=\"1\" class=\"dataframe\">\n",
       "  <thead>\n",
       "    <tr style=\"text-align: right;\">\n",
       "      <th></th>\n",
       "      <th>id</th>\n",
       "      <th>text</th>\n",
       "      <th>likes</th>\n",
       "    </tr>\n",
       "  </thead>\n",
       "  <tbody>\n",
       "    <tr>\n",
       "      <th>0</th>\n",
       "      <td>54581</td>\n",
       "      <td>Приснился мне город, открытый весне,\\nи ты под...</td>\n",
       "      <td>429</td>\n",
       "    </tr>\n",
       "    <tr>\n",
       "      <th>1</th>\n",
       "      <td>55833</td>\n",
       "      <td>Открыт набор на курс по психологии. Экспресс-о...</td>\n",
       "      <td>691</td>\n",
       "    </tr>\n",
       "    <tr>\n",
       "      <th>2</th>\n",
       "      <td>55831</td>\n",
       "      <td>Я не болен. Просто в октябре я чувствую себя т...</td>\n",
       "      <td>356</td>\n",
       "    </tr>\n",
       "    <tr>\n",
       "      <th>3</th>\n",
       "      <td>55830</td>\n",
       "      <td>— Октябрь, — со страстью в голосе произнес он....</td>\n",
       "      <td>166</td>\n",
       "    </tr>\n",
       "    <tr>\n",
       "      <th>4</th>\n",
       "      <td>55829</td>\n",
       "      <td>— Ненавижу октябрь.\\n— Чем он перед тобой пров...</td>\n",
       "      <td>103</td>\n",
       "    </tr>\n",
       "    <tr>\n",
       "      <th>...</th>\n",
       "      <td>...</td>\n",
       "      <td>...</td>\n",
       "      <td>...</td>\n",
       "    </tr>\n",
       "    <tr>\n",
       "      <th>995</th>\n",
       "      <td>55697</td>\n",
       "      <td>Жаль, в поездах нельзя навечно остаться, и я б...</td>\n",
       "      <td>512</td>\n",
       "    </tr>\n",
       "    <tr>\n",
       "      <th>996</th>\n",
       "      <td>55696</td>\n",
       "      <td>Пока вы не научитесь управлять веслами, беспол...</td>\n",
       "      <td>1282</td>\n",
       "    </tr>\n",
       "    <tr>\n",
       "      <th>997</th>\n",
       "      <td>55695</td>\n",
       "      <td>— Что прикажите принести, сэр?\\n— Унесите меня...</td>\n",
       "      <td>360</td>\n",
       "    </tr>\n",
       "    <tr>\n",
       "      <th>998</th>\n",
       "      <td>55694</td>\n",
       "      <td>В этом – весь Гаррис: он охотно берет самое тя...</td>\n",
       "      <td>80</td>\n",
       "    </tr>\n",
       "    <tr>\n",
       "      <th>999</th>\n",
       "      <td>55693</td>\n",
       "      <td>Буду ненавидеть, если смогу, а не смогу — буду...</td>\n",
       "      <td>321</td>\n",
       "    </tr>\n",
       "  </tbody>\n",
       "</table>\n",
       "<p>1000 rows × 3 columns</p>\n",
       "</div>"
      ],
      "text/plain": [
       "        id                                               text  likes\n",
       "0    54581  Приснился мне город, открытый весне,\\nи ты под...    429\n",
       "1    55833  Открыт набор на курс по психологии. Экспресс-о...    691\n",
       "2    55831  Я не болен. Просто в октябре я чувствую себя т...    356\n",
       "3    55830  — Октябрь, — со страстью в голосе произнес он....    166\n",
       "4    55829  — Ненавижу октябрь.\\n— Чем он перед тобой пров...    103\n",
       "..     ...                                                ...    ...\n",
       "995  55697  Жаль, в поездах нельзя навечно остаться, и я б...    512\n",
       "996  55696  Пока вы не научитесь управлять веслами, беспол...   1282\n",
       "997  55695  — Что прикажите принести, сэр?\\n— Унесите меня...    360\n",
       "998  55694  В этом – весь Гаррис: он охотно берет самое тя...     80\n",
       "999  55693  Буду ненавидеть, если смогу, а не смогу — буду...    321\n",
       "\n",
       "[1000 rows x 3 columns]"
      ]
     },
     "execution_count": 79,
     "metadata": {},
     "output_type": "execute_result"
    }
   ],
   "source": [
    "df"
   ]
  },
  {
   "cell_type": "code",
   "execution_count": 82,
   "id": "dce8cead",
   "metadata": {},
   "outputs": [
    {
     "data": {
      "text/plain": [
       "<AxesSubplot:>"
      ]
     },
     "execution_count": 82,
     "metadata": {},
     "output_type": "execute_result"
    },
    {
     "data": {
      "image/png": "[encoded data removed]",
      "text/plain": [
       "<Figure size 640x480 with 1 Axes>"
      ]
     },
     "metadata": {},
     "output_type": "display_data"
    }
   ],
   "source": [
    "df.likes.hist(bins = 20)"
   ]
  },
  {
   "cell_type": "code",
   "execution_count": null,
   "id": "ab1b0c40",
   "metadata": {},
   "outputs": [],
   "source": []
  }
 ],
 "metadata": {
  "kernelspec": {
   "display_name": "Python 3 (ipykernel)",
   "language": "python",
   "name": "python3"
  },
  "language_info": {
   "codemirror_mode": {
    "name": "ipython",
    "version": 3
   },
   "file_extension": ".py",
   "mimetype": "text/x-python",
   "name": "python",
   "nbconvert_exporter": "python",
   "pygments_lexer": "ipython3",
   "version": "3.8.1"
  }
 },
 "nbformat": 4,
 "nbformat_minor": 5
}
